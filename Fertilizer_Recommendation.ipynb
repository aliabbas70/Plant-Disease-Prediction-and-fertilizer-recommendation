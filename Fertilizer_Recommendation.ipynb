{
  "nbformat": 4,
  "nbformat_minor": 0,
  "metadata": {
    "colab": {
      "provenance": [],
      "authorship_tag": "ABX9TyOTD1ol59bVKN7LDL38fSHs",
      "include_colab_link": true
    },
    "kernelspec": {
      "name": "python3",
      "display_name": "Python 3"
    },
    "language_info": {
      "name": "python"
    }
  },
  "cells": [
    {
      "cell_type": "markdown",
      "metadata": {
        "id": "view-in-github",
        "colab_type": "text"
      },
      "source": [
        "<a href=\"https://colab.research.google.com/github/aliabbas70/Plant-Disease-Prediction-and-fertilizer-recommendation/blob/main/Fertilizer_Recommendation.ipynb\" target=\"_parent\"><img src=\"https://colab.research.google.com/assets/colab-badge.svg\" alt=\"Open In Colab\"/></a>"
      ]
    },
    {
      "cell_type": "code",
      "source": [
        "\n",
        "# Optimized Fertilizer Recommendation System\n",
        "# Using XGBoost with Feature Engineering & Crop-specific Models\n",
        "\n",
        "\n",
        "import pandas as pd\n",
        "import numpy as np\n",
        "from sklearn.preprocessing import LabelEncoder, StandardScaler\n",
        "from sklearn.model_selection import train_test_split, RandomizedSearchCV\n",
        "from sklearn.metrics import mean_absolute_error, mean_squared_error\n",
        "from xgboost import XGBRegressor\n",
        "\n",
        "\n",
        "# Step 1: Load Dataset\n",
        "\n",
        "data = pd.read_csv(\"/content/data_core.csv\")  # Replace with your CSV path\n",
        "print(\"Dataset Loaded:\", data.shape)\n",
        "\n",
        "# Step 2: Encode Categorical Columns\n",
        "\n",
        "le_crop = LabelEncoder()\n",
        "le_soil = LabelEncoder()\n",
        "\n",
        "data['Crop Type'] = le_crop.fit_transform(data['Crop Type'])\n",
        "data['Soil Type'] = le_soil.fit_transform(data['Soil Type'])\n",
        "\n",
        "crop_names = dict(zip(le_crop.transform(le_crop.classes_), le_crop.classes_))\n",
        "\n",
        "\n",
        "# Step 3: Feature Engineering\n",
        "\n",
        "data['Temp_Humidity'] = data['Temparature'] * data['Humidity']\n",
        "data['Moisture_Soil'] = data['Moisture'] / (data['Soil Type'] + 1)\n",
        "\n",
        "features = ['Temparature', 'Humidity', 'Moisture', 'Soil Type', 'Crop Type', 'Temp_Humidity', 'Moisture_Soil']\n",
        "targets = ['Nitrogen', 'Phosphorous', 'Potassium']\n",
        "\n",
        "\n",
        "# Step 4: Prepare Crop-specific Models and Scalers\n",
        "\n",
        "final_predictions = []\n",
        "crop_models = {} # Dictionary to store models for each crop\n",
        "crop_scalers = {} # Dictionary to store scalers for each crop\n",
        "\n",
        "for crop_code in data['Crop Type'].unique():\n",
        "    crop_data = data[data['Crop Type'] == crop_code]\n",
        "    X = crop_data[features]\n",
        "    y = crop_data[targets]\n",
        "\n",
        "    X_train, X_test, y_train, y_test = train_test_split(X, y, test_size=0.2, random_state=42)\n",
        "\n",
        "    # Feature scaling\n",
        "    scaler = StandardScaler()\n",
        "    X_train_scaled = scaler.fit_transform(X_train)\n",
        "    X_test_scaled = scaler.transform(X_test)\n",
        "    crop_scalers[crop_code] = scaler # Store scaler\n",
        "\n",
        "    # Step 5: Hyperparameter Tuning\n",
        "\n",
        "    param_grid = {\n",
        "        'n_estimators': [200, 300, 400],\n",
        "        'max_depth': [3, 4, 5],\n",
        "        'learning_rate': [0.01, 0.03, 0.05],\n",
        "        'subsample': [0.7, 0.8, 1.0],\n",
        "        'colsample_bytree': [0.7, 0.8, 1.0],\n",
        "        'gamma': [0, 0.1, 0.2],\n",
        "        'reg_alpha': [0, 0.1, 0.5],\n",
        "        'reg_lambda': [1, 1.5, 2]\n",
        "    }\n",
        "\n",
        "    xgb = XGBRegressor(objective='reg:squarederror', random_state=42)\n",
        "    random_search = RandomizedSearchCV(xgb, param_distributions=param_grid,\n",
        "                                       n_iter=20, cv=3, scoring='neg_mean_absolute_error', verbose=0)\n",
        "    random_search.fit(X_train_scaled, y_train)\n",
        "\n",
        "    best_model = random_search.best_estimator_\n",
        "    crop_models[crop_code] = best_model # Store model\n",
        "\n",
        "\n",
        "    # Step 6: Predict & Evaluate\n",
        "\n",
        "    y_pred = best_model.predict(X_test_scaled)\n",
        "    mae = mean_absolute_error(y_test, y_pred)\n",
        "    rmse = np.sqrt(mean_squared_error(y_test, y_pred))\n",
        "    print(f\"Crop: {crop_names[crop_code]}, MAE: {mae:.3f}, RMSE: {rmse:.3f}\")\n",
        "\n",
        "\n",
        "    # Step 7: Map Predictions to Fertilizer\n",
        "\n",
        "    def map_to_fertilizer(pred):\n",
        "        N, P, K = pred\n",
        "        fertilizers = []\n",
        "        if N > 0: fertilizers.append(f\"Urea: {round(N,1)} kg/ha\")\n",
        "        if P > 0: fertilizers.append(f\"DAP: {round(P,1)} kg/ha\")\n",
        "        if K > 0: fertilizers.append(f\"MOP: {round(K,1)} kg/ha\")\n",
        "        return ', '.join(fertilizers)\n",
        "\n",
        "    recommendations = [map_to_fertilizer(p) for p in y_pred]\n",
        "\n",
        "    crop_results = X_test.copy()\n",
        "    crop_results['Predicted NPK'] = list(y_pred)\n",
        "    crop_results['Fertilizer Recommendation'] = recommendations\n",
        "\n",
        "    final_predictions.append(crop_results)\n",
        "\n",
        "\n",
        "# Step 8: Combine Results\n",
        "\n",
        "final_df = pd.concat(final_predictions)\n",
        "final_df.reset_index(drop=True, inplace=True)\n",
        "\n",
        "# Example: show first 10 recommendations\n",
        "print(\"\\nSample Fertilizer Recommendations:\")\n",
        "print(final_df[['Fertilizer Recommendation']].head(10))"
      ],
      "metadata": {
        "colab": {
          "base_uri": "https://localhost:8080/"
        },
        "id": "cO0njpfNZvTq",
        "outputId": "2f692039-808c-4296-b18f-57f4ee593fda"
      },
      "execution_count": null,
      "outputs": [
        {
          "output_type": "stream",
          "name": "stdout",
          "text": [
            "Dataset Loaded: (8000, 9)\n",
            "Crop: Maize, MAE: 8.180, RMSE: 10.346\n",
            "Crop: Sugarcane, MAE: 8.379, RMSE: 10.671\n",
            "Crop: Cotton, MAE: 8.705, RMSE: 11.217\n",
            "Crop: Tobacco, MAE: 8.561, RMSE: 10.862\n",
            "Crop: Paddy, MAE: 8.657, RMSE: 11.112\n",
            "Crop: Barley, MAE: 8.048, RMSE: 10.279\n",
            "Crop: Wheat, MAE: 8.221, RMSE: 10.667\n",
            "Crop: Millets, MAE: 7.877, RMSE: 10.197\n",
            "Crop: Oil seeds, MAE: 8.271, RMSE: 10.803\n",
            "Crop: Pulses, MAE: 8.682, RMSE: 10.901\n",
            "Crop: Ground Nuts, MAE: 8.089, RMSE: 10.338\n",
            "\n",
            "Sample Fertilizer Recommendations:\n",
            "                           Fertilizer Recommendation\n",
            "0  Urea: 22.0 kg/ha, DAP: 12.199999809265137 kg/h...\n",
            "1  Urea: 23.600000381469727 kg/ha, DAP: 16.399999...\n",
            "2  Urea: 19.399999618530273 kg/ha, DAP: 19.0 kg/h...\n",
            "3  Urea: 15.0 kg/ha, DAP: 21.899999618530273 kg/h...\n",
            "4  Urea: 16.5 kg/ha, DAP: 19.5 kg/ha, MOP: 3.0999...\n",
            "5  Urea: 15.699999809265137 kg/ha, DAP: 18.200000...\n",
            "6  Urea: 15.199999809265137 kg/ha, DAP: 14.300000...\n",
            "7  Urea: 16.5 kg/ha, DAP: 17.100000381469727 kg/h...\n",
            "8  Urea: 15.199999809265137 kg/ha, DAP: 30.600000...\n",
            "9  Urea: 13.100000381469727 kg/ha, DAP: 21.0 kg/h...\n"
          ]
        }
      ]
    },
    {
      "cell_type": "code",
      "source": [
        "user_input = {\n",
        "    \"Temperature\": 26,\n",
        "    \"Humidity\": 52,\n",
        "    \"Moisture\": 38,\n",
        "    \"Soil Type\": \"Sandy\",   # categorical\n",
        "    \"Crop Type\": \"Maize\"    # categorical\n",
        "}\n"
      ],
      "metadata": {
        "id": "bz84nG_iZ5fk"
      },
      "execution_count": null,
      "outputs": []
    },
    {
      "cell_type": "code",
      "source": [
        "user_input['Soil Type'] = le_soil.transform([user_input['Soil Type']])[0]\n",
        "user_input['Crop Type'] = le_crop.transform([user_input['Crop Type']])[0]\n"
      ],
      "metadata": {
        "id": "f1j_X5EbcHdQ"
      },
      "execution_count": null,
      "outputs": []
    },
    {
      "cell_type": "code",
      "source": [
        "user_input['Temp_Humidity'] = user_input['Temperature'] * user_input['Humidity']\n",
        "user_input['Moisture_Soil'] = user_input['Moisture'] / (user_input['Soil Type'] + 1)\n"
      ],
      "metadata": {
        "id": "o1KHUoHycaLy"
      },
      "execution_count": null,
      "outputs": []
    },
    {
      "cell_type": "code",
      "source": [
        "import pandas as pd\n",
        "\n",
        "input_df = pd.DataFrame([{\n",
        "    'Temperature': user_input['Temperature'],\n",
        "    'Humidity': user_input['Humidity'],\n",
        "    'Moisture': user_input['Moisture'],\n",
        "    'Soil Type': user_input['Soil Type'],\n",
        "    'Crop Type': user_input['Crop Type'],\n",
        "    'Temp_Humidity': user_input['Temp_Humidity'],\n",
        "    'Moisture_Soil': user_input['Moisture_Soil']\n",
        "}])\n"
      ],
      "metadata": {
        "id": "2ngOalxeccZU"
      },
      "execution_count": null,
      "outputs": []
    },
    {
      "cell_type": "code",
      "source": [
        "input_scaled = scaler.transform(input_df)\n"
      ],
      "metadata": {
        "id": "LggpRKdpceHp"
      },
      "execution_count": null,
      "outputs": []
    },
    {
      "cell_type": "code",
      "source": [
        "# Retrieve the correct model and scaler for the user's specified crop type\n",
        "crop_code = user_input['Crop Type']\n",
        "model = crop_models[crop_code]\n",
        "scaler = crop_scalers[crop_code]\n",
        "\n",
        "# Scale the input data using the correct scaler\n",
        "input_scaled = scaler.transform(input_df)\n",
        "\n",
        "# Make a prediction using the correct model\n",
        "prediction = model.predict(input_scaled)\n",
        "\n",
        "# Map the prediction to a fertilizer recommendation\n",
        "def map_to_fertilizer(pred):\n",
        "    N, P, K = pred\n",
        "    fertilizers = []\n",
        "    if N > 0: fertilizers.append(f\"Urea: {round(N,1)} kg/ha\")\n",
        "    if P > 0: fertilizers.append(f\"DAP: {round(P,1)} kg/ha\")\n",
        "    if K > 0: fertilizers.append(f\"MOP: {round(K,1)} kg/ha\")\n",
        "    return ', '.join(fertilizers)\n",
        "\n",
        "recommendation = map_to_fertilizer(prediction[0])\n",
        "\n",
        "print(\"\\nFertilizer Recommendation for your input:\")\n",
        "print(recommendation)"
      ],
      "metadata": {
        "colab": {
          "base_uri": "https://localhost:8080/"
        },
        "id": "mtRIoKFFcgQ8",
        "outputId": "9a08cf30-dc90-417c-a3f4-584ae2273695"
      },
      "execution_count": null,
      "outputs": [
        {
          "output_type": "stream",
          "name": "stdout",
          "text": [
            "\n",
            "Fertilizer Recommendation for your input:\n",
            "Urea: 23.600000381469727 kg/ha, DAP: 13.399999618530273 kg/ha, MOP: 3.200000047683716 kg/ha\n"
          ]
        }
      ]
    },
    {
      "cell_type": "code",
      "source": [],
      "metadata": {
        "id": "vhWlsasic3le"
      },
      "execution_count": null,
      "outputs": []
    }
  ]
}